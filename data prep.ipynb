{
 "cells": [
  {
   "cell_type": "code",
   "execution_count": 13,
   "metadata": {
    "tags": []
   },
   "outputs": [
    {
     "output_type": "stream",
     "name": "stdout",
     "text": "Index(['Unnamed: 0',      1392.01,      1392.02,      1392.03,      1392.04,\n            1392.05,      1392.06,      1392.07,      1392.08,      1392.09,\n             1392.1,      1392.11,      1392.12,      1393.01,      1393.02,\n            1393.03,      1393.04,      1393.05,      1393.06,      1393.07,\n            1393.08,      1393.09,       1393.1,      1393.11,      1393.12,\n            1394.01,      1394.02,      1394.03,      1394.04,      1394.05,\n            1394.06,      1394.07,      1394.08,      1394.09,       1394.1,\n            1394.11,      1394.12,      1395.01,      1395.02,      1395.03,\n            1395.04,      1395.05,      1395.06,      1395.07,      1395.08,\n            1395.09,       1395.1,      1395.11,      1395.12,      1396.01,\n            1396.02,      1396.03,      1396.04,      1396.05,      1396.06,\n            1396.07,      1396.08,      1396.09,       1396.1,      1396.11,\n            1396.12,      1397.01,      1397.02,      1397.03,      1397.04,\n            1397.05,      1397.06,      1397.07,      1397.08,      1397.09,\n             1397.1,      1397.11,      1397.12,      1398.01,      1398.02,\n            1398.03,      1398.04,      1398.05,      1398.06,      1398.07,\n            1398.08,      1398.09,       1398.1,      1398.11,      1398.12,\n            1399.01,      1399.02,      1399.03,      1399.04,      1399.05,\n            1399.06,      1399.07,      1399.08,      1399.09,       1399.1,\n            1399.11,      1399.12],\n      dtype='object')\n"
    }
   ],
   "source": [
    "import pandas as pd\n",
    "\n",
    "def reader():\n",
    "    dfn=pd.read_excel(\"national.xlsx\", skiprows=3, header=0)\n",
    "    dfc=pd.read_excel(\"city.xlsx\", skiprows=2, header=0)\n",
    "    dfr=pd.read_excel(\"rural.xlsx\", skiprows=2, header=0)\n",
    "    return dfn, dfc, dfr\n",
    "    \n",
    "def header_title(df, year):\n",
    "    for column in range(1, len(df.columns)):\n",
    "        df.rename(columns={ df.columns[column]: (column-1)//12+year+ ((column-1)%12)/100+0.01}, inplace = True)\n",
    "    return df.columns\n",
    "\n",
    "reader()\n",
    "print(header_title(dfn, 1392))\n"
   ]
  },
  {
   "cell_type": "code",
   "execution_count": null,
   "metadata": {},
   "outputs": [],
   "source": []
  }
 ],
 "metadata": {
  "kernelspec": {
   "name": "python3",
   "display_name": "Python 3"
  }
 },
 "nbformat": 4,
 "nbformat_minor": 4
}