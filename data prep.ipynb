{
 "cells": [
  {
   "cell_type": "code",
   "execution_count": null,
   "metadata": {},
   "outputs": [],
   "source": [
    "import pandas as pd\n",
    "\n",
    "def reader(national, city, Rural):\n",
    "    dfn=pd.read_excel(\"national.xlsx\", skiprows=3, header=0)\n",
    "    dfc=pd.read_excel(\"city.xlsx\", skiprows=2, header=0)\n",
    "    dfr=pd.read_excel(\"Rural.xlsx\", skiprows=2, header=0)\n"
   ]
  }
 ],
 "metadata": {},
 "nbformat": 4,
 "nbformat_minor": 4
}