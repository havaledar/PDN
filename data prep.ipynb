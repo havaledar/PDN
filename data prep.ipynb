{
 "cells": [
  {
   "cell_type": "code",
   "execution_count": 89,
   "metadata": {
    "tags": []
   },
   "outputs": [],
   "source": [
    "import pandas as pd\n",
    "\n",
    "dfn=pd.read_excel(\"national.xlsx\", skiprows=3, header=0)\n",
    "dfc=pd.read_excel(\"city.xlsx\", skiprows=2, header=0)\n",
    "dfr=pd.read_excel(\"rural.xlsx\", skiprows=2, header=0)\n",
    "\n",
    "correct_label=[\"شاخص کل\",\"۱- خوراکي‌ها، آشامیدني‌ها و دخانیات\",\"۱-۱- خوراکي‌ها و آشامیدنی‌ها\",\"۱-۱-۱- خوراکي‌ها\",\"۱-۱-۲-۲- اجاره\",\"۱-۲- پوشاک و کفش\",\"۱-۲-۲- مسکن\",\"۱-۳- شاخص کل* (بدون اجاره)\",\"۱-۳-۱-۱- گوشت قرمز و گوشت ماکیان\",\"۱۰-۱-۱- محصولات خوراکی طبقه‌بندي‌نشده در جای دیگر\",\"۱۰-۲- کالاها و خدمات متفرقه\",\"۱۱-۱-۱- چای، قهوه، کاکائو، نوشابه و آب میوه (نوشابه‌های غیر الکلی)\",\"۲- کالاهای غیر خوراکی و خدمات\",\"۲-۱- دخانیات\",\"۲-۱-۱- نان و غلات\",\"۲-۱-۲-۲- خدمات نگهداری و تعمیر واحد مسکونی (خدمت )\",\"۲-۲- مسکن، آب، برق، گاز و سایر سوخت‌ها\",\"۲-۲-۲- آب ، برق و سوخت\",\"۲-۳- کالاها\",\"۲-۳-۱-۱- ماهي‌ها و صدف داران\",\"۳-۱-۱- گوشت قرمز و سفید و فرآورده‌های آن‌ها\",\"۳-۲- مبلمان و لوازم خانگی و نگهداری معمول آن‌ها\",\"۳-۳- خدمات\",\"۴-۱-۱- شیر، پنیر و تخم مرغ\",\"۴-۲- بهداشت و درمان\",\"۴-۳- کالاهای بادوام\",\"۵-۱-۱- روغن‌ها و چربي‌ها\",\"۵-۲- حمل و نقل\",\"۵-۳- کالاهای بی‌دوام\",\"۶-۲- ارتباطات\",\"۶-۳- کالاهای کم‌دوام\",\"۷-۱-۱- میوه و خشکبار\",\"۷-۲- تفریح و فرهنگ\",\"۷-۳- خوراکی‌های تازه\",\"۸-۱-۱- سبزیجات (سبزي‌ها و حبوبات)\",\"۸-۲- آموزش\",\"۸-۳- سایر خوراکی‌ها\",\"۹-۱-۱- شکر، مربا، عسل ، شکلات و شیرینی(قند و شکر و شیریني‌ها)\",\"۹-۲- هتل و رستوران\",\"۹-۳- خدمات عمومی\"]\n",
    "\n",
    "month=[\"فروردین\",\"اردیبهشت\",\"خرداد\",\"تیر\",\"مرداد\",\"شهریور\",\"مهر\",\"آبان\",\"آذر\",\"دی\",\"بهمن\",\"اسفند\"]\n",
    "\n",
    "for i in range(0,40):\n",
    "    dfr.iloc[i,0]=correct_label[i]\n",
    "\n",
    "month_head=[\"ماه\"]\n",
    "for j in range(len(dfr.columns)-1):\n",
    "    month_head.append(month[(j)%12])\n",
    "\n",
    "year=1376\n",
    "year_row=[\"سال\"]\n",
    "for column in range(len(dfr.columns)-1):\n",
    "    year_row.append(column//12 +year +(column%12)/100+0.01)\n",
    "\n",
    "index_sort=[\"\"]\n",
    "for column in range(len(dfr.columns)-1):\n",
    "    index_sort.append(column)\n",
    "\n",
    "dfr.columns=[year_row,month_head]\n",
    "\n",
    "dfr_unpivot=pd.melt(dfr, id_vars=[(\"سال\", \"ماه\")], value_name=\"تورم\", var_name=[\"سال.ماه\", \"ماه شمسی\"])\n",
    "dfr_unpivot.columns=[\"شاخص‌ها\",\"سال.ماه\",\"ماه شمسی\",\"تورم\"]\n",
    "\n",
    "dfr_unpivot.to_excel(\"output.xlsx\")\n",
    "\n",
    "#def header_title(df, year):\n",
    " #   for column in range(1, len(df.columns)):\n",
    "  #      df.rename(columns={ df.columns[column]: (column-1)//12+year+ ((column-1)%12)/100+0.01}, inplace = True)\n",
    "   # return df.columns"
   ]
  },
  {
   "cell_type": "code",
   "execution_count": null,
   "metadata": {},
   "outputs": [],
   "source": []
  }
 ],
 "metadata": {
  "kernelspec": {
   "name": "python3",
   "display_name": "Python 3"
  }
 },
 "nbformat": 4,
 "nbformat_minor": 4
}